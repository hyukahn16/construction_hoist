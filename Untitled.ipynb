{
 "cells": [
  {
   "cell_type": "code",
   "execution_count": 3,
   "metadata": {},
   "outputs": [
    {
     "name": "stdout",
     "output_type": "stream",
     "text": [
      "starting train.py\n",
      "Simulation starting.\n",
      "Resetting!\n",
      "Generating new passengers\n",
      "Created new Passenger at 75, going to 24!\n",
      "Created new Passenger at 66, going to 37!\n",
      "Created new Passenger at 54, going to 84!\n",
      "Created new Passenger at 86, going to 5!\n",
      "Created new Passenger at 21, going to 17!\n",
      "Created new Passenger at 36, going to 34!\n",
      "Created new Passenger at 53, going to 43!\n",
      "Created new Passenger at 27, going to 71!\n",
      "Created new Passenger at 14, going to 23!\n",
      "Created new Passenger at 3, going to 78!\n",
      "Created new Passenger at 79, going to 97!\n",
      "Created new Passenger at 91, going to 72!\n",
      "Created new Passenger at 74, going to 77!\n",
      "Created new Passenger at 25, going to 11!\n",
      "Created new Passenger at 27, going to 56!\n",
      "Created new Passenger at 9, going to 20!\n",
      "Created new Passenger at 13, going to 40!\n",
      "Created new Passenger at 97, going to 5!\n",
      "Created new Passenger at 32, going to 83!\n",
      "Created new Passenger at 42, going to 96!\n",
      "Created new Passenger at 65, going to 34!\n",
      "Created new Passenger at 99, going to 29!\n",
      "Created new Passenger at 93, going to 36!\n",
      "Created new Passenger at 70, going to 61!\n",
      "Created new Passenger at 28, going to 47!\n",
      "Created new Passenger at 90, going to 13!\n",
      "Created new Passenger at 23, going to 78!\n",
      "Created new Passenger at 1, going to 71!\n",
      "Created new Passenger at 64, going to 75!\n",
      "Created new Passenger at 9, going to 55!\n",
      "Created new Passenger at 50, going to 78!\n",
      "Created new Passenger at 49, going to 40!\n",
      "Created new Passenger at 82, going to 83!\n",
      "Created new Passenger at 29, going to 76!\n",
      "Created new Passenger at 85, going to 68!\n",
      "Created new Passenger at 94, going to 66!\n",
      "Created new Passenger at 44, going to 5!\n",
      "Created new Passenger at 88, going to 72!\n",
      "Created new Passenger at 19, going to 82!\n",
      "Created new Passenger at 22, going to 47!\n",
      "Created new Passenger at 12, going to 9!\n",
      "Created new Passenger at 88, going to 81!\n",
      "Created new Passenger at 57, going to 49!\n",
      "Created new Passenger at 32, going to 62!\n",
      "Created new Passenger at 61, going to 51!\n",
      "Created new Passenger at 57, going to 88!\n",
      "Created new Passenger at 41, going to 13!\n",
      "Created new Passenger at 55, going to 80!\n",
      "Created new Passenger at 5, going to 61!\n",
      "Created new Passenger at 66, going to 56!\n",
      "Created new Passenger at 10, going to 27!\n",
      "Created new Passenger at 52, going to 50!\n",
      "Created new Passenger at 48, going to 64!\n",
      "Created new Passenger at 97, going to 81!\n",
      "Created new Passenger at 2, going to 44!\n",
      "Created new Passenger at 47, going to 75!\n",
      "Created new Passenger at 32, going to 6!\n",
      "Created new Passenger at 91, going to 49!\n",
      "Created new Passenger at 3, going to 87!\n",
      "Created new Passenger at 95, going to 36!\n",
      "Created new Passenger at 17, going to 88!\n",
      "Created new Passenger at 92, going to 21!\n",
      "Created new Passenger at 20, going to 40!\n",
      "Created new Passenger at 56, going to 71!\n",
      "Created new Passenger at 52, going to 39!\n",
      "Created new Passenger at 32, going to 30!\n",
      "Created new Passenger at 89, going to 76!\n",
      "Created new Passenger at 3, going to 36!\n",
      "Created new Passenger at 30, going to 74!\n",
      "Created new Passenger at 34, going to 95!\n",
      "Created new Passenger at 82, going to 45!\n",
      "Created new Passenger at 66, going to 6!\n",
      "Created new Passenger at 16, going to 11!\n",
      "Created new Passenger at 98, going to 32!\n",
      "Created new Passenger at 3, going to 98!\n",
      "Created new Passenger at 96, going to 36!\n",
      "Created new Passenger at 4, going to 37!\n",
      "Created new Passenger at 78, going to 93!\n",
      "Created new Passenger at 90, going to 5!\n",
      "Created new Passenger at 71, going to 84!\n",
      "Created new Passenger at 37, going to 88!\n",
      "Created new Passenger at 14, going to 23!\n",
      "Created new Passenger at 49, going to 58!\n",
      "Created new Passenger at 26, going to 6!\n",
      "Created new Passenger at 40, going to 27!\n",
      "Created new Passenger at 34, going to 71!\n",
      "Created new Passenger at 82, going to 58!\n",
      "Created new Passenger at 85, going to 43!\n",
      "Created new Passenger at 9, going to 98!\n",
      "Created new Passenger at 84, going to 99!\n",
      "Created new Passenger at 88, going to 11!\n",
      "Created new Passenger at 41, going to 81!\n",
      "Created new Passenger at 65, going to 78!\n",
      "Created new Passenger at 23, going to 36!\n",
      "Created new Passenger at 5, going to 72!\n",
      "Created new Passenger at 29, going to 7!\n",
      "Created new Passenger at 35, going to 77!\n",
      "Created new Passenger at 98, going to 47!\n",
      "Created new Passenger at 39, going to 28!\n",
      "Simulation finished.\n"
     ]
    }
   ],
   "source": [
    "!python train.py"
   ]
  },
  {
   "cell_type": "code",
   "execution_count": null,
   "metadata": {},
   "outputs": [],
   "source": [
    "!python train.py"
   ]
  },
  {
   "cell_type": "code",
   "execution_count": null,
   "metadata": {},
   "outputs": [],
   "source": [
    "!python test.py"
   ]
  },
  {
   "cell_type": "code",
   "execution_count": null,
   "metadata": {},
   "outputs": [],
   "source": [
    "print(\"hello world\")"
   ]
  },
  {
   "cell_type": "code",
   "execution_count": null,
   "metadata": {},
   "outputs": [],
   "source": []
  }
 ],
 "metadata": {
  "kernelspec": {
   "display_name": "Python 3",
   "language": "python",
   "name": "python3"
  },
  "language_info": {
   "codemirror_mode": {
    "name": "ipython",
    "version": 3
   },
   "file_extension": ".py",
   "mimetype": "text/x-python",
   "name": "python",
   "nbconvert_exporter": "python",
   "pygments_lexer": "ipython3",
   "version": "3.5.6"
  }
 },
 "nbformat": 4,
 "nbformat_minor": 2
}
